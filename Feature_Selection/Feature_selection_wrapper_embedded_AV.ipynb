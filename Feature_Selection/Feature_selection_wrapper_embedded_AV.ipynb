{
  "cells": [
    {
      "cell_type": "markdown",
      "metadata": {
        "id": "f4JYx2dQeL4V"
      },
      "source": [
        "\n",
        "\n",
        "# Feature selection (II): Wrapper and embedded methods\n",
        "\n",
        "See also: https://scikit-learn.org/stable/modules/feature_selection.html"
      ]
    },
    {
      "cell_type": "markdown",
      "metadata": {
        "id": "v2g-pDVLQsky"
      },
      "source": [
        "# Feature selection using *wrapper* methods \n",
        "### The *wrapper* methods are based on selecting the variables that will work best for a given model. To do this we need a classification or regression model, and we will test all the combinations of variables one by one and in groups.\n",
        "### We are going to experiment with this method with a simple regression problem where we will fit a least squares linear model. The problem will be generated with the `make_regression` function of scikit-learn, making sure to create a number of informative variables less than the total number of variables, as shown in the code below.\n",
        "### We generate 100 samples of a regression problem with 4 input variables and one output variable. Of the 4 variables only 3 are needed to predict. In addition we add a small amount of noise to complicate the problem a bit."
      ]
    },
    {
      "cell_type": "code",
      "execution_count": 2,
      "metadata": {
        "id": "V2TjVX1hQsky"
      },
      "outputs": [],
      "source": [
        "import matplotlib.pyplot as plt\n",
        "%matplotlib inline\n",
        "import numpy as np\n",
        "from sklearn.datasets import make_regression\n",
        "# If we want the example to be illustrative we have to put n_informative < n_features\n",
        "X, y = make_regression(n_samples=100, n_features=4, n_informative=3, n_targets=1, noise=0.01)"
      ]
    },
    {
      "cell_type": "code",
      "execution_count": 3,
      "metadata": {
        "colab": {
          "base_uri": "https://localhost:8080/"
        },
        "id": "X5M8-J9eQsky",
        "outputId": "3d7ea5f4-db6e-4013-f471-45be2dac7024"
      },
      "outputs": [
        {
          "data": {
            "text/plain": [
              "((67, 4), (33, 4))"
            ]
          },
          "execution_count": 3,
          "metadata": {},
          "output_type": "execute_result"
        }
      ],
      "source": [
        "# Separate into training and test\n",
        "from sklearn.model_selection import train_test_split\n",
        "Xtrain, Xtest, ytrain, ytest = train_test_split(X, y, test_size=0.33)\n",
        "\n",
        "# We ensure that 'y' has dimension Nx1.\n",
        "ytrain = ytrain.reshape(-1,1)\n",
        "ytest = ytest.reshape(-1,1)\n",
        "\n",
        "Xtrain.shape, Xtest.shape"
      ]
    },
    {
      "cell_type": "code",
      "execution_count": 4,
      "metadata": {
        "colab": {
          "base_uri": "https://localhost:8080/"
        },
        "id": "jZpPQ0fGSc-d",
        "outputId": "a35b3114-8626-4f59-a1c3-0f43408a499e"
      },
      "outputs": [
        {
          "data": {
            "text/plain": [
              "((67, 1), (33, 1))"
            ]
          },
          "execution_count": 4,
          "metadata": {},
          "output_type": "execute_result"
        }
      ],
      "source": [
        "ytrain.shape, ytest.shape"
      ]
    },
    {
      "cell_type": "code",
      "execution_count": 5,
      "metadata": {
        "colab": {
          "base_uri": "https://localhost:8080/"
        },
        "id": "msZToDoSRZmU",
        "outputId": "503beb21-c0a4-4638-f885-2008fec33022"
      },
      "outputs": [
        {
          "name": "stdout",
          "output_type": "stream",
          "text": [
            "R^2 0.9999999895589607\n",
            "MSE 0.00013752725390935274\n"
          ]
        }
      ],
      "source": [
        "from sklearn.linear_model import LinearRegression\n",
        "from sklearn.metrics import mean_squared_error\n",
        "model = LinearRegression()\n",
        "model.fit(Xtrain, ytrain)\n",
        "\n",
        "yp = model.predict(Xtest)\n",
        "print('R^2', model.score(Xtest, ytest))\n",
        "print('MSE', mean_squared_error(ytest, yp))\n",
        "#print(model.coef_)"
      ]
    },
    {
      "cell_type": "code",
      "execution_count": 6,
      "metadata": {
        "colab": {
          "base_uri": "https://localhost:8080/",
          "height": 334
        },
        "id": "mtb-a4M6fFzI",
        "outputId": "77738055-9302-4621-e239-b88193843229"
      },
      "outputs": [
        {
          "name": "stdout",
          "output_type": "stream",
          "text": [
            "Feature: 0, Score: 45.98202\n",
            "Feature: 1, Score: -0.00119\n",
            "Feature: 2, Score: 68.58307\n",
            "Feature: 3, Score: 72.75802\n"
          ]
        },
        {
          "data": {
            "image/png": "[encoded data removed]",
            "text/plain": [
              "<Figure size 432x288 with 1 Axes>"
            ]
          },
          "metadata": {
            "needs_background": "light"
          },
          "output_type": "display_data"
        }
      ],
      "source": [
        "# get importance\n",
        "importance = model.coef_.ravel()\n",
        "# summarize feature importance\n",
        "for i,v in enumerate(importance):\n",
        " print('Feature: %0d, Score: %.5f' % (i,v))\n",
        "# plot feature importance\n",
        "plt.bar([x for x in range(len(importance))], importance)\n",
        "plt.show()"
      ]
    },
    {
      "cell_type": "markdown",
      "metadata": {
        "id": "KICdlZi_s1kx"
      },
      "source": [
        "The scores suggest that the model found the three important features and marked the other feature with a zero coefficient, essentially removing them from the model.\n",
        "\n",
        "This approach is an embedded method to select the best features based on the weigths asigned to each feature. It may also be used with `Ridge` and `ElasticNet` models in scikit learn. We see some examples later."
      ]
    },
    {
      "cell_type": "markdown",
      "metadata": {
        "id": "gXmnNuZWQskz"
      },
      "source": [
        "### We go now with the method of selection of variables itself.\n",
        "### First we are going to try each variable one by one ...\n",
        "#### Exercise:\n",
        "Test the input variables in the LinearModel one by one. Check the results with the `fit`, `predict` and `score` functions."
      ]
    },
    {
      "cell_type": "code",
      "execution_count": 7,
      "metadata": {
        "colab": {
          "base_uri": "https://localhost:8080/"
        },
        "id": "WiBXfhBbQskz",
        "outputId": "181d229a-bfc2-43e5-a9ff-f886d696614a"
      },
      "outputs": [
        {
          "name": "stdout",
          "output_type": "stream",
          "text": [
            "Feature: 0\n",
            "R^2 0.0766983758480484\n",
            "MSE 12161.541977492732\n"
          ]
        },
        {
          "data": {
            "image/png": "[encoded data removed]",
            "text/plain": [
              "<Figure size 432x288 with 1 Axes>"
            ]
          },
          "metadata": {
            "needs_background": "light"
          },
          "output_type": "display_data"
        },
        {
          "name": "stdout",
          "output_type": "stream",
          "text": [
            "Feature: 1\n",
            "R^2 -0.039494709896823244\n",
            "MSE 13692.013767877143\n"
          ]
        },
        {
          "data": {
            "image/png": "[encoded data removed]",
            "text/plain": [
              "<Figure size 432x288 with 1 Axes>"
            ]
          },
          "metadata": {
            "needs_background": "light"
          },
          "output_type": "display_data"
        },
        {
          "name": "stdout",
          "output_type": "stream",
          "text": [
            "Feature: 2\n",
            "R^2 0.3407385683148765\n",
            "MSE 8683.658043973172\n"
          ]
        },
        {
          "data": {
            "image/png": "[encoded data removed]",
            "text/plain": [
              "<Figure size 432x288 with 1 Axes>"
            ]
          },
          "metadata": {
            "needs_background": "light"
          },
          "output_type": "display_data"
        },
        {
          "name": "stdout",
          "output_type": "stream",
          "text": [
            "Feature: 3\n",
            "R^2 0.6009327047585826\n",
            "MSE 5256.433581366971\n"
          ]
        },
        {
          "data": {
            "image/png": "[encoded data removed]",
            "text/plain": [
              "<Figure size 432x288 with 1 Axes>"
            ]
          },
          "metadata": {
            "needs_background": "light"
          },
          "output_type": "display_data"
        }
      ],
      "source": [
        "for i in range(Xtrain.shape[1]):\n",
        "    model1 = LinearRegression()\n",
        "    model1.fit(Xtrain[:, i, None], ytrain)\n",
        "    yp1 = model1.predict(Xtest[:, i, None])\n",
        "    print('Feature:', i)\n",
        "    print('R^2', model1.score(Xtest[:, i, None], ytest))\n",
        "    print('MSE', mean_squared_error(ytest, yp1))\n",
        "    plt.plot(yp1,ytest,'+')\n",
        "    plt.xlabel('y predicted')\n",
        "    plt.ylabel('y test')\n",
        "    plt.show()"
      ]
    },
    {
      "cell_type": "markdown",
      "metadata": {
        "id": "RWl-tFyJQskz"
      },
      "source": [
        "### Now in groups of two ...\n",
        "#### Exercise:\n",
        "Now try all combinations of two variables. For this we will use `combinations` from the `itertools` library."
      ]
    },
    {
      "cell_type": "code",
      "execution_count": 8,
      "metadata": {
        "colab": {
          "base_uri": "https://localhost:8080/"
        },
        "id": "Dd-72q2VQskz",
        "outputId": "8af26052-4a62-49b2-eba2-22a917b6e7d4"
      },
      "outputs": [
        {
          "name": "stdout",
          "output_type": "stream",
          "text": [
            "Features: (0, 1)\n",
            "R^2 0.020579376862473686\n",
            "MSE 12900.730065161057\n"
          ]
        },
        {
          "data": {
            "image/png": "[encoded data removed]",
            "text/plain": [
              "<Figure size 432x288 with 1 Axes>"
            ]
          },
          "metadata": {
            "needs_background": "light"
          },
          "output_type": "display_data"
        },
        {
          "name": "stdout",
          "output_type": "stream",
          "text": [
            "Features: (0, 2)\n",
            "R^2 0.5661469612869536\n",
            "MSE 5714.624348481755\n"
          ]
        },
        {
          "data": {
            "image/png": "[encoded data removed]",
            "text/plain": [
              "<Figure size 432x288 with 1 Axes>"
            ]
          },
          "metadata": {
            "needs_background": "light"
          },
          "output_type": "display_data"
        },
        {
          "name": "stdout",
          "output_type": "stream",
          "text": [
            "Features: (0, 3)\n",
            "R^2 0.635322774638228\n",
            "MSE 4803.45454666164\n"
          ]
        },
        {
          "data": {
            "image/png": "[encoded data removed]",
            "text/plain": [
              "<Figure size 432x288 with 1 Axes>"
            ]
          },
          "metadata": {
            "needs_background": "light"
          },
          "output_type": "display_data"
        },
        {
          "name": "stdout",
          "output_type": "stream",
          "text": [
            "Features: (1, 2)\n",
            "R^2 0.3437408085003276\n",
            "MSE 8644.113144357712\n"
          ]
        },
        {
          "data": {
            "image/png": "[encoded data removed]",
            "text/plain": [
              "<Figure size 432x288 with 1 Axes>"
            ]
          },
          "metadata": {
            "needs_background": "light"
          },
          "output_type": "display_data"
        },
        {
          "name": "stdout",
          "output_type": "stream",
          "text": [
            "Features: (1, 3)\n",
            "R^2 0.5842400921151214\n",
            "MSE 5476.3052939981935\n"
          ]
        },
        {
          "data": {
            "image/png": "[encoded data removed]",
            "text/plain": [
              "<Figure size 432x288 with 1 Axes>"
            ]
          },
          "metadata": {
            "needs_background": "light"
          },
          "output_type": "display_data"
        },
        {
          "name": "stdout",
          "output_type": "stream",
          "text": [
            "Features: (2, 3)\n",
            "R^2 0.8417614206650853\n",
            "MSE 2084.2865155879635\n"
          ]
        },
        {
          "data": {
            "image/png": "[encoded data removed]",
            "text/plain": [
              "<Figure size 432x288 with 1 Axes>"
            ]
          },
          "metadata": {
            "needs_background": "light"
          },
          "output_type": "display_data"
        }
      ],
      "source": [
        "from itertools import combinations\n",
        "for c in combinations(range(4), 2):\n",
        "    model1 = LinearRegression()\n",
        "    model1.fit(Xtrain[:, c], ytrain)\n",
        "    yp1 = model1.predict(Xtest[:, c])\n",
        "    print('Features:', c)\n",
        "    print('R^2', model1.score(Xtest[:, c], ytest))\n",
        "    print('MSE', mean_squared_error(ytest, yp1))\n",
        "    plt.plot(yp1,ytest,'+')\n",
        "    plt.xlabel('y predicted')\n",
        "    plt.ylabel('y test')\n",
        "    plt.show()"
      ]
    },
    {
      "cell_type": "markdown",
      "metadata": {
        "id": "C0QSxMGbQskz"
      },
      "source": [
        "### And finally in groups of three..."
      ]
    },
    {
      "cell_type": "code",
      "execution_count": 9,
      "metadata": {
        "colab": {
          "base_uri": "https://localhost:8080/"
        },
        "id": "SzNQhHN0Qskz",
        "outputId": "8721957e-4d75-4443-a22d-75a42f388008"
      },
      "outputs": [
        {
          "name": "stdout",
          "output_type": "stream",
          "text": [
            "Features: (0, 1, 2)\n",
            "R^2 0.5587814594107497\n",
            "MSE 5811.641247303991\n"
          ]
        },
        {
          "data": {
            "image/png": "[encoded data removed]",
            "text/plain": [
              "<Figure size 432x288 with 1 Axes>"
            ]
          },
          "metadata": {
            "needs_background": "light"
          },
          "output_type": "display_data"
        },
        {
          "name": "stdout",
          "output_type": "stream",
          "text": [
            "Features: (0, 1, 3)\n",
            "R^2 0.6004208490356684\n",
            "MSE 5263.175641272214\n"
          ]
        },
        {
          "data": {
            "image/png": "[encoded data removed]",
            "text/plain": [
              "<Figure size 432x288 with 1 Axes>"
            ]
          },
          "metadata": {
            "needs_background": "light"
          },
          "output_type": "display_data"
        },
        {
          "name": "stdout",
          "output_type": "stream",
          "text": [
            "Features: (0, 2, 3)\n",
            "R^2 0.9999999896113485\n",
            "MSE 0.00013683721366285453\n"
          ]
        },
        {
          "data": {
            "image/png": "[encoded data removed]",
            "text/plain": [
              "<Figure size 432x288 with 1 Axes>"
            ]
          },
          "metadata": {
            "needs_background": "light"
          },
          "output_type": "display_data"
        },
        {
          "name": "stdout",
          "output_type": "stream",
          "text": [
            "Features: (1, 2, 3)\n",
            "R^2 0.8419176672018769\n",
            "MSE 2082.228467853267\n"
          ]
        },
        {
          "data": {
            "image/png": "[encoded data removed]",
            "text/plain": [
              "<Figure size 432x288 with 1 Axes>"
            ]
          },
          "metadata": {
            "needs_background": "light"
          },
          "output_type": "display_data"
        }
      ],
      "source": [
        "from itertools import combinations\n",
        "\n",
        "for c in combinations(range(4), 3):\n",
        "    model1 = LinearRegression()\n",
        "    model1.fit(Xtrain[:, c], ytrain)\n",
        "    yp1 = model1.predict(Xtest[:, c])\n",
        "    print('Features:', c)\n",
        "    print('R^2', model1.score(Xtest[:, c], ytest))\n",
        "    print('MSE', mean_squared_error(ytest, yp1))\n",
        "    plt.plot(yp1,ytest,'+')\n",
        "    plt.xlabel('y predicted')\n",
        "    plt.ylabel('y test')\n",
        "    plt.show()"
      ]
    },
    {
      "cell_type": "code",
      "execution_count": 10,
      "metadata": {
        "colab": {
          "base_uri": "https://localhost:8080/"
        },
        "id": "bYJguL6pZd3Y",
        "outputId": "7345db8a-ce3f-46d5-8f38-7b3b0d8745e1"
      },
      "outputs": [
        {
          "name": "stdout",
          "output_type": "stream",
          "text": [
            "Features: [0, 2, 3]\n",
            "R^2 0.9999999896113485\n",
            "MSE 0.00013683721366285453\n"
          ]
        },
        {
          "data": {
            "image/png": "[encoded data removed]",
            "text/plain": [
              "<Figure size 432x288 with 1 Axes>"
            ]
          },
          "metadata": {
            "needs_background": "light"
          },
          "output_type": "display_data"
        }
      ],
      "source": [
        "# Fit the best model based on the ranked features. \n",
        "vars = [0,2,3]\n",
        "\n",
        "model1 = LinearRegression()\n",
        "model1.fit(Xtrain[:, vars ], ytrain)\n",
        "yp1 = model1.predict(Xtest[:, vars])\n",
        "print('Features:', vars)\n",
        "print('R^2', model1.score(Xtest[:, vars], ytest))\n",
        "print('MSE', mean_squared_error(ytest, yp1))\n",
        "plt.plot(yp1,ytest,'+')\n",
        "plt.xlabel('y predicted')\n",
        "plt.ylabel('y test')\n",
        "plt.show()\n",
        "\n"
      ]
    },
    {
      "cell_type": "markdown",
      "metadata": {
        "id": "IIhSipiW5sa2"
      },
      "source": [
        "In scikit-learn we have the `SequentialFeatureSelector` transformer that performs Sequential Feature Selection, which does this selection by adding or removing features (forward and backward selection).\n"
      ]
    },
    {
      "cell_type": "markdown",
      "metadata": {
        "id": "jiBk1IGtyT3H"
      },
      "source": [
        "### Sequential Feature Selection (forward and backward)\n",
        "\n",
        "This Sequential Feature Selector adds (forward selection) or removes (backward selection) features to form a feature subset in a greedy fashion. At each stage, this estimator chooses the best feature to add or remove based on the cross-validation score of an estimator. In the case of unsupervised learning, this Sequential Feature Selector looks only at the features (X), not the desired outputs (y)."
      ]
    },
    {
      "cell_type": "code",
      "execution_count": 11,
      "metadata": {
        "colab": {
          "base_uri": "https://localhost:8080/"
        },
        "id": "jeGgJaOfyYe2",
        "outputId": "cfcd64e3-e0b2-4f58-caea-b4260007396f"
      },
      "outputs": [
        {
          "name": "stdout",
          "output_type": "stream",
          "text": [
            "Features: [ True False  True  True]\n"
          ]
        }
      ],
      "source": [
        "from sklearn.feature_selection import SequentialFeatureSelector as SFS\n",
        "# direction{‘forward’, ‘backward’}, default=’forward’\n",
        "\n",
        "SFS1 = SFS(model, n_features_to_select=3, direction='forward')\n",
        "SFS1 = SFS1.fit(X, y)\n",
        "print('Features:', SFS1.get_support())\n",
        "\n"
      ]
    },
    {
      "cell_type": "code",
      "execution_count": 12,
      "metadata": {
        "id": "BfclpTlvUiJG"
      },
      "outputs": [],
      "source": [
        "# Exercise\n",
        "# Try to see what happens when we do not select a number of features. \n",
        "# What number of features does it select and why? \n",
        "# Remember that in this example the number of relevant features should be 3 "
      ]
    },
    {
      "attachments": {},
      "cell_type": "markdown",
      "metadata": {
        "id": "Z-laNVE1Vmac"
      },
      "source": [
        "Respuesta: El número por defecto es la mitad del número de características de los datos. Al tener 4, por eso es 2. Una razón para esto es que la implementación cuenta con ambas direcciones, por tanto un valor neutro es justamente la mitad de las variables."
      ]
    },
    {
      "cell_type": "markdown",
      "metadata": {
        "id": "G89sQ2kTRSzW"
      },
      "source": [
        "#Feature selection using embedded methods\n",
        "\n",
        "+ Tree-based algorithm like Decision Tree, RandomForest or ExtraTree, XGBoost\n",
        "+  Regularization approach that includes Lasso(L1 regularization) and Ridge(L2 regularization) and Elastic Nets(L1 and L2)"
      ]
    },
    {
      "cell_type": "markdown",
      "metadata": {
        "id": "QoUNhQ6uyZEh"
      },
      "source": [
        "### Recursive feature elimination (RFE)\n",
        "\n",
        "Given an external estimator that assigns weights to features (e.g., the coefficients of a linear model), the goal of recursive feature elimination (`RFE`) is to select features by recursively considering smaller and smaller sets of features. First, the estimator is trained on the initial set of features and the importance of each feature is obtained either through any specific attribute (such as `coef_`, `feature_importances_`) or callable. Then, the least important features are pruned from current set of features. That procedure is recursively repeated on the pruned set until the desired number of features to select is eventually reached.\n",
        "\n",
        "`RFECV` performs RFE in a cross-validation loop to find the optimal number of features."
      ]
    },
    {
      "cell_type": "code",
      "execution_count": 13,
      "metadata": {
        "colab": {
          "base_uri": "https://localhost:8080/"
        },
        "id": "PWiKX5ZexBur",
        "outputId": "7676a75a-4723-4fab-a6ae-4167641bd282"
      },
      "outputs": [
        {
          "data": {
            "text/plain": [
              "array([2, 3, 1, 1])"
            ]
          },
          "execution_count": 13,
          "metadata": {},
          "output_type": "execute_result"
        }
      ],
      "source": [
        "# RFE can be used with different supervised estimators, which provides information about feature importance\n",
        "# RFE is used in this example with a linear regression model\n",
        "\n",
        "from sklearn.linear_model import LinearRegression\n",
        "from sklearn.feature_selection import RFE\n",
        "\n",
        "## create ranking among all features by selecting only one\n",
        "#rfe = RFE(LinearRegression(), n_features_to_select=3)\n",
        "rfe = RFE(LinearRegression())\n",
        "rfe.fit(X, y)\n",
        "rfe.ranking_"
      ]
    },
    {
      "cell_type": "code",
      "execution_count": 14,
      "metadata": {
        "colab": {
          "base_uri": "https://localhost:8080/"
        },
        "id": "cRbbnGWwcwqu",
        "outputId": "29656936-1391-4a85-f040-40343001129d"
      },
      "outputs": [
        {
          "data": {
            "text/plain": [
              "array([2, 3, 1, 1])"
            ]
          },
          "execution_count": 14,
          "metadata": {},
          "output_type": "execute_result"
        }
      ],
      "source": [
        "# evaluate RFE for regression with DecisionTreeRegressor\n",
        "from sklearn.feature_selection import RFE\n",
        "from sklearn.tree import DecisionTreeRegressor\n",
        "\n",
        "# create pipeline\n",
        "rfe = RFE(estimator=DecisionTreeRegressor())\n",
        "rfe.fit(X, y)\n",
        "rfe.ranking_"
      ]
    },
    {
      "cell_type": "markdown",
      "metadata": {
        "id": "3jwUuuiXZSQ7"
      },
      "source": [
        "## Classification and regression trees (CART)\n",
        "Decision tree algorithms like classification and regression trees (CART) provide importance scores based on the reduction in the criterion used to select split points, like Gini or entropy.\n",
        "\n",
        "This same approach can be used for ensembles of decision trees, such as the random forest and stochastic gradient boosting algorithms."
      ]
    },
    {
      "cell_type": "code",
      "execution_count": 15,
      "metadata": {
        "colab": {
          "base_uri": "https://localhost:8080/",
          "height": 334
        },
        "id": "fVwwc9gzWTBM",
        "outputId": "f062dd43-d714-4b0e-d071-6d5924b53701"
      },
      "outputs": [
        {
          "name": "stdout",
          "output_type": "stream",
          "text": [
            "Feature: 0, Score: 0.11773\n",
            "Feature: 1, Score: 0.01730\n",
            "Feature: 2, Score: 0.35367\n",
            "Feature: 3, Score: 0.51130\n"
          ]
        },
        {
          "data": {
            "image/png": "[encoded data removed]",
            "text/plain": [
              "<Figure size 432x288 with 1 Axes>"
            ]
          },
          "metadata": {
            "needs_background": "light"
          },
          "output_type": "display_data"
        }
      ],
      "source": [
        "# CART Regression Feature Importance \n",
        "\n",
        "from sklearn.tree import DecisionTreeRegressor\n",
        "\n",
        "# define the model\n",
        "model = DecisionTreeRegressor()\n",
        "# fit the model\n",
        "model.fit(X, y)\n",
        "# get importance\n",
        "importance = model.feature_importances_\n",
        "# summarize feature importance\n",
        "for i,v in enumerate(importance):\n",
        " print('Feature: %0d, Score: %.5f' % (i,v))\n",
        "# plot feature importance\n",
        "plt.bar([x for x in range(len(importance))], importance)\n",
        "plt.show()"
      ]
    },
    {
      "cell_type": "markdown",
      "metadata": {
        "id": "KHrfUxhpeBKM"
      },
      "source": [
        "## Random Forest Regression \n",
        "In scikit-learn we can use the Random Forest algorithm to obtain the importance of features using `RandomForestRegressor` and `RandomForestClassifier` for regression or classification, respectively.\n",
        "\n",
        "The model provides a `feature_importances_` property that can be accessed to retrieve the relative importance scores for each input feature.\n",
        "\n",
        "This approach can also be used with the bagging and extra trees algorithms.\n"
      ]
    },
    {
      "cell_type": "code",
      "execution_count": 16,
      "metadata": {
        "colab": {
          "base_uri": "https://localhost:8080/",
          "height": 334
        },
        "id": "GSJ76j5wagkR",
        "outputId": "7b907a9f-9b1d-4f9f-9c94-ebe4539dc296"
      },
      "outputs": [
        {
          "name": "stdout",
          "output_type": "stream",
          "text": [
            "Feature: 0, Score: 0.14494\n",
            "Feature: 1, Score: 0.02227\n",
            "Feature: 2, Score: 0.32045\n",
            "Feature: 3, Score: 0.51234\n"
          ]
        },
        {
          "data": {
            "image/png": "[encoded data removed]",
            "text/plain": [
              "<Figure size 432x288 with 1 Axes>"
            ]
          },
          "metadata": {
            "needs_background": "light"
          },
          "output_type": "display_data"
        }
      ],
      "source": [
        "from sklearn.ensemble import RandomForestRegressor\n",
        "# define the model\n",
        "model = RandomForestRegressor()\n",
        "# fit the model\n",
        "model.fit(X, y)\n",
        "# get importance\n",
        "importance = model.feature_importances_\n",
        "# summarize feature importance\n",
        "for i,v in enumerate(importance):\n",
        "\tprint('Feature: %0d, Score: %.5f' % (i,v))\n",
        "# plot feature importance\n",
        "plt.bar([x for x in range(len(importance))], importance)\n",
        "plt.show()"
      ]
    },
    {
      "cell_type": "markdown",
      "metadata": {
        "id": "YpBXee7ef3ul"
      },
      "source": [
        "## XGBoost Feature Importance\n",
        "\n",
        "XGBoost is a library that provides an efficient and effective implementation of the stochastic gradient boosting algorithm.\n",
        "\n",
        "This algorithm can be used with scikit-learn via the XGBRegressor and XGBClassifier classes.\n",
        "\n",
        "After being fit, the model provides a feature_importances_ property that can be accessed to retrieve the relative importance scores for each input feature.\n",
        "\n",
        "This algorithm is also provided via scikit-learn via the GradientBoostingClassifier and GradientBoostingRegressor classes and the same approach to feature selection can be used."
      ]
    },
    {
      "cell_type": "code",
      "execution_count": 17,
      "metadata": {
        "colab": {
          "base_uri": "https://localhost:8080/"
        },
        "id": "LT_Jox8Of2Vf",
        "outputId": "3df019ec-9e1d-4cd6-ae61-d5dbc93a7ece"
      },
      "outputs": [],
      "source": [
        "# Install xgboost\n",
        "#!pip install xgboost"
      ]
    },
    {
      "cell_type": "code",
      "execution_count": 18,
      "metadata": {
        "colab": {
          "base_uri": "https://localhost:8080/"
        },
        "id": "SN-_PyHogGOU",
        "outputId": "31298f47-d618-4042-8fd0-c42c895b3133"
      },
      "outputs": [
        {
          "name": "stdout",
          "output_type": "stream",
          "text": [
            "1.7.3\n"
          ]
        }
      ],
      "source": [
        "# check xgboost version\n",
        "import xgboost\n",
        "print(xgboost.__version__)"
      ]
    },
    {
      "cell_type": "code",
      "execution_count": 19,
      "metadata": {
        "colab": {
          "base_uri": "https://localhost:8080/",
          "height": 352
        },
        "id": "XFX7XzFPgNN3",
        "outputId": "f1d083d3-e895-43cc-e624-21cd96124d58"
      },
      "outputs": [
        {
          "name": "stdout",
          "output_type": "stream",
          "text": [
            "Feature: 0, Score: 0.06205\n",
            "Feature: 1, Score: 0.00859\n",
            "Feature: 2, Score: 0.31473\n",
            "Feature: 3, Score: 0.61463\n"
          ]
        },
        {
          "data": {
            "image/png": "[encoded data removed]",
            "text/plain": [
              "<Figure size 432x288 with 1 Axes>"
            ]
          },
          "metadata": {
            "needs_background": "light"
          },
          "output_type": "display_data"
        }
      ],
      "source": [
        "from xgboost import XGBRegressor\n",
        "# define the model\n",
        "model = XGBRegressor()\n",
        "# fit the model\n",
        "model.fit(X, y)\n",
        "# get importance\n",
        "importance = model.feature_importances_\n",
        "# summarize feature importance\n",
        "for i,v in enumerate(importance):\n",
        " print('Feature: %0d, Score: %.5f' % (i,v))\n",
        "# plot feature importance\n",
        "plt.bar([x for x in range(len(importance))], importance)\n",
        "plt.show()"
      ]
    },
    {
      "cell_type": "markdown",
      "metadata": {
        "id": "Wy7kNLa_mO-L"
      },
      "source": [
        "##Permutation Feature Importance\n",
        "\n",
        "Permutation feature importance is a technique for calculating relative importance scores that is independent of the model used.\n",
        "\n",
        "First, a model is fit on the dataset, such as a model that does not support native feature importance scores. Then the model is used to make predictions on a dataset, although the values of a feature (column) in the dataset are scrambled. This is repeated for each feature in the dataset. Then this whole process is repeated 3, 5, 10 or more times. The result is a mean importance score for each input feature (and distribution of scores given the repeats)."
      ]
    },
    {
      "cell_type": "code",
      "execution_count": 20,
      "metadata": {
        "colab": {
          "base_uri": "https://localhost:8080/",
          "height": 334
        },
        "id": "P_aLv22dmV4n",
        "outputId": "1eaed45d-24a1-4f6b-a7ed-6a4fb6354d6e"
      },
      "outputs": [
        {
          "name": "stdout",
          "output_type": "stream",
          "text": [
            "Feature: 0, Score: 3460.66720\n",
            "Feature: 1, Score: 39.09820\n",
            "Feature: 2, Score: 7544.05696\n",
            "Feature: 3, Score: 8401.51642\n"
          ]
        },
        {
          "data": {
            "image/png": "[encoded data removed]",
            "text/plain": [
              "<Figure size 432x288 with 1 Axes>"
            ]
          },
          "metadata": {
            "needs_background": "light"
          },
          "output_type": "display_data"
        }
      ],
      "source": [
        "# permutation feature importance with knn for regression\n",
        "from sklearn.neighbors import KNeighborsRegressor\n",
        "from sklearn.inspection import permutation_importance\n",
        "\n",
        "# define the model\n",
        "model = KNeighborsRegressor()\n",
        "# fit the model\n",
        "model.fit(X, y)\n",
        "# perform permutation importance\n",
        "results = permutation_importance(model, X, y, scoring='neg_mean_squared_error')\n",
        "# get importance\n",
        "importance = results.importances_mean\n",
        "# summarize feature importance\n",
        "for i,v in enumerate(importance):\n",
        " print('Feature: %0d, Score: %.5f' % (i,v))\n",
        "# plot feature importance\n",
        "plt.bar([x for x in range(len(importance))], importance)\n",
        "plt.show()"
      ]
    },
    {
      "cell_type": "code",
      "execution_count": 21,
      "metadata": {
        "id": "0k41zifbg1lH"
      },
      "outputs": [],
      "source": [
        "# Exercise\n",
        "# All the examples seen here apply to a simple regression problem, but but almost the same methods have a version for classification.\n",
        "# Select a dataset of your interest for classification and evaluate how the different methods work for that problem.\n",
        "# If you don't have any, you can select one of the toy datasets from scikit learn\n",
        "# https://scikit-learn.org/stable/datasets/toy_dataset.html\n"
      ]
    },
    {
      "cell_type": "code",
      "execution_count": 62,
      "metadata": {},
      "outputs": [],
      "source": [
        "from sklearn.datasets import load_breast_cancer\n",
        "import pandas as pd\n",
        "\n",
        "breast_cancer = load_breast_cancer()\n",
        "X = breast_cancer.data\n",
        "X_columns=breast_cancer.feature_names\n",
        "\n",
        "y = breast_cancer.target\n",
        "\n",
        "indices = np.random.choice(X.shape[0],50 , replace=False)  # Tenemos 30 variables y mas de 500 muestras, para hacerlo más interesante vamos a tomar muchos menos datos \n",
        "\n",
        "X=X[indices,:]\n",
        "y=y[indices]\n",
        "\n",
        "\n",
        "# Separate data into train and test sets\n",
        "X_train, X_test, y_train, y_test = train_test_split(X, y, random_state=1234)\n"
      ]
    },
    {
      "cell_type": "code",
      "execution_count": 63,
      "metadata": {},
      "outputs": [
        {
          "name": "stdout",
          "output_type": "stream",
          "text": [
            "R^2 0.6923076923076923\n",
            "MSE 0.3076923076923077\n"
          ]
        }
      ],
      "source": [
        "from sklearn.discriminant_analysis import LinearDiscriminantAnalysis\n",
        "from sklearn.metrics import mean_squared_error\n",
        "model = LinearDiscriminantAnalysis()\n",
        "model.fit(X_train, y_train)\n",
        "\n",
        "yp = model.predict(X_test)\n",
        "print('R^2', model.score(X_test, y_test))\n",
        "print('MSE', mean_squared_error(y_test, yp))"
      ]
    },
    {
      "cell_type": "code",
      "execution_count": 78,
      "metadata": {},
      "outputs": [
        {
          "name": "stdout",
          "output_type": "stream",
          "text": [
            "Feature: 0, Score: -479.11345\n",
            "Feature: 1, Score: 0.52429\n",
            "Feature: 2, Score: 64.38925\n",
            "Feature: 3, Score: 1.18435\n",
            "Feature: 4, Score: -125.90312\n",
            "Feature: 5, Score: 1095.90327\n",
            "Feature: 6, Score: 597.74140\n",
            "Feature: 7, Score: 739.76097\n",
            "Feature: 8, Score: -2151.69026\n",
            "Feature: 9, Score: -32325.04369\n",
            "Feature: 10, Score: 1287.89697\n",
            "Feature: 11, Score: -122.84226\n",
            "Feature: 12, Score: -55.55196\n",
            "Feature: 13, Score: -7.86363\n",
            "Feature: 14, Score: 9468.49615\n",
            "Feature: 15, Score: -8850.25125\n",
            "Feature: 16, Score: 1068.67940\n",
            "Feature: 17, Score: 19359.44810\n",
            "Feature: 18, Score: -1489.68102\n",
            "Feature: 19, Score: 8185.35509\n",
            "Feature: 20, Score: -33.47753\n",
            "Feature: 21, Score: 1.32240\n",
            "Feature: 22, Score: 2.61418\n",
            "Feature: 23, Score: -0.13179\n",
            "Feature: 24, Score: -306.26152\n",
            "Feature: 25, Score: 732.03472\n",
            "Feature: 26, Score: -1240.75937\n",
            "Feature: 27, Score: -3965.64379\n",
            "Feature: 28, Score: 824.82719\n",
            "Feature: 29, Score: 14590.30926\n"
          ]
        },
        {
          "data": {
            "image/png": "[encoded data removed]",
            "text/plain": [
              "<Figure size 432x288 with 1 Axes>"
            ]
          },
          "metadata": {
            "needs_background": "light"
          },
          "output_type": "display_data"
        }
      ],
      "source": [
        "importance = model.coef_.ravel()\n",
        "# summarize feature importance\n",
        "for i,v in enumerate(importance):\n",
        " print('Feature: %0d, Score: %.5f' % (i,v))\n",
        "# plot feature importance\n",
        "plt.bar([x for x in range(len(importance))], importance)\n",
        "plt.show()"
      ]
    },
    {
      "attachments": {},
      "cell_type": "markdown",
      "metadata": {},
      "source": [
        "Estos coeficientes dejan claro que estamos sobreajustando. Esto es por la gran cantidad de variables comparado con el número de muestras."
      ]
    },
    {
      "cell_type": "code",
      "execution_count": 76,
      "metadata": {},
      "outputs": [
        {
          "name": "stdout",
          "output_type": "stream",
          "text": [
            "Features: [9, 17, 29]\n",
            "R^2 0.7692307692307693\n",
            "MSE 0.23076923076923078\n"
          ]
        }
      ],
      "source": [
        "features = [9,17,29]\n",
        "\n",
        "model1 = LinearDiscriminantAnalysis()\n",
        "model1.fit(X_train[:, features], y_train)\n",
        "yp1 = model1.predict(X_test[:, features])\n",
        "print('Features:', features)\n",
        "print('R^2', model1.score(X_test[:, features], y_test))\n",
        "print('MSE', mean_squared_error(y_test, yp1))"
      ]
    },
    {
      "attachments": {},
      "cell_type": "markdown",
      "metadata": {},
      "source": [
        "Solo tomando 3 variables hemos mejorado bastante los resultados, además de simplificar el modelo."
      ]
    },
    {
      "attachments": {},
      "cell_type": "markdown",
      "metadata": {},
      "source": [
        "Por la relativa gran cantidad de variables ya no podemos probar todas las combinaciones de variables y evaluar sus precisiones ya que esto llevaría un gran tiempo de computación."
      ]
    },
    {
      "cell_type": "code",
      "execution_count": 90,
      "metadata": {},
      "outputs": [
        {
          "data": {
            "text/plain": [
              "array([ 6, 12,  9, 15,  1,  1,  1,  1,  1,  1,  4,  8, 10, 13,  1,  1,  1,\n",
              "        1,  1,  3,  7, 11, 14, 16,  1,  5,  1,  1,  2,  1])"
            ]
          },
          "execution_count": 90,
          "metadata": {},
          "output_type": "execute_result"
        }
      ],
      "source": [
        "\n",
        "rfe = RFE(LinearDiscriminantAnalysis())\n",
        "rfe.fit(X, y)\n",
        "rfe.ranking_"
      ]
    },
    {
      "cell_type": "code",
      "execution_count": 91,
      "metadata": {},
      "outputs": [
        {
          "name": "stdout",
          "output_type": "stream",
          "text": [
            "Features: [4, 5, 6, 7, 8, 9, 14, 15, 16, 17, 18, 24, 26, 27, 29]\n",
            "R^2 0.9230769230769231\n",
            "MSE 0.07692307692307693\n"
          ]
        }
      ],
      "source": [
        "\n",
        "features = [i for i, x in enumerate(rfe.ranking_) if x == 1]\n",
        "\n",
        "model1 = LinearDiscriminantAnalysis()\n",
        "model1.fit(X_train[:, features], y_train)\n",
        "yp1 = model1.predict(X_test[:, features])\n",
        "print('Features:', features)\n",
        "print('R^2', model1.score(X_test[:, features], y_test))\n",
        "print('MSE', mean_squared_error(y_test, yp1))"
      ]
    },
    {
      "attachments": {},
      "cell_type": "markdown",
      "metadata": {},
      "source": [
        "Vemos que tenemos bastantes variables con alta importancia, pero al tomar estas variables hemos mejorado sustancialmente el modelo."
      ]
    },
    {
      "attachments": {},
      "cell_type": "markdown",
      "metadata": {},
      "source": [
        "A continuación probamos también a extraer características pero ahora utilizando árboles."
      ]
    },
    {
      "cell_type": "code",
      "execution_count": 92,
      "metadata": {},
      "outputs": [
        {
          "data": {
            "text/plain": [
              "array([16, 15, 14, 13, 12, 11, 10,  1,  2,  1,  1,  1,  1,  1,  1,  4,  6,\n",
              "        8,  9,  7,  5,  1,  1,  1,  1,  1,  1,  1,  1,  3])"
            ]
          },
          "execution_count": 92,
          "metadata": {},
          "output_type": "execute_result"
        }
      ],
      "source": [
        "from sklearn.tree import DecisionTreeClassifier\n",
        "\n",
        "# create pipeline\n",
        "rfe = RFE(estimator=DecisionTreeClassifier())\n",
        "rfe.fit(X, y)\n",
        "rfe.ranking_"
      ]
    },
    {
      "cell_type": "code",
      "execution_count": 93,
      "metadata": {},
      "outputs": [
        {
          "name": "stdout",
          "output_type": "stream",
          "text": [
            "Features: [7, 9, 10, 11, 12, 13, 14, 21, 22, 23, 24, 25, 26, 27, 28]\n",
            "R^2 0.7692307692307693\n",
            "MSE 0.23076923076923078\n"
          ]
        }
      ],
      "source": [
        "\n",
        "features = [i for i, x in enumerate(rfe.ranking_) if x == 1]\n",
        "\n",
        "model1 = DecisionTreeClassifier()\n",
        "model1.fit(X_train[:, features], y_train)\n",
        "yp1 = model1.predict(X_test[:, features])\n",
        "print('Features:', features)\n",
        "print('R^2', model1.score(X_test[:, features], y_test))\n",
        "print('MSE', mean_squared_error(y_test, yp1))"
      ]
    },
    {
      "attachments": {},
      "cell_type": "markdown",
      "metadata": {},
      "source": [
        "Ahora si que obtenemos diferencias entre ambos rankings, y observamos que funciona bastante mejor el LDA."
      ]
    },
    {
      "cell_type": "code",
      "execution_count": 94,
      "metadata": {},
      "outputs": [
        {
          "name": "stdout",
          "output_type": "stream",
          "text": [
            "Feature: 0, Score: 0.05753\n",
            "Feature: 1, Score: 0.00938\n",
            "Feature: 2, Score: 0.02490\n",
            "Feature: 3, Score: 0.05915\n",
            "Feature: 4, Score: 0.00373\n",
            "Feature: 5, Score: 0.00644\n",
            "Feature: 6, Score: 0.05087\n",
            "Feature: 7, Score: 0.10149\n",
            "Feature: 8, Score: 0.00614\n",
            "Feature: 9, Score: 0.00122\n",
            "Feature: 10, Score: 0.01915\n",
            "Feature: 11, Score: 0.00648\n",
            "Feature: 12, Score: 0.01170\n",
            "Feature: 13, Score: 0.05027\n",
            "Feature: 14, Score: 0.01144\n",
            "Feature: 15, Score: 0.00593\n",
            "Feature: 16, Score: 0.00307\n",
            "Feature: 17, Score: 0.00403\n",
            "Feature: 18, Score: 0.00361\n",
            "Feature: 19, Score: 0.00234\n",
            "Feature: 20, Score: 0.08216\n",
            "Feature: 21, Score: 0.05365\n",
            "Feature: 22, Score: 0.11795\n",
            "Feature: 23, Score: 0.07344\n",
            "Feature: 24, Score: 0.00637\n",
            "Feature: 25, Score: 0.01793\n",
            "Feature: 26, Score: 0.02496\n",
            "Feature: 27, Score: 0.18059\n",
            "Feature: 28, Score: 0.00270\n",
            "Feature: 29, Score: 0.00137\n"
          ]
        },
        {
          "data": {
            "image/png": "[encoded data removed]",
            "text/plain": [
              "<Figure size 432x288 with 1 Axes>"
            ]
          },
          "metadata": {
            "needs_background": "light"
          },
          "output_type": "display_data"
        }
      ],
      "source": [
        "from sklearn.ensemble import RandomForestClassifier\n",
        "# define the model\n",
        "model = RandomForestClassifier()\n",
        "# fit the model\n",
        "model.fit(X_train, y_train)\n",
        "# get importance\n",
        "importance = model.feature_importances_\n",
        "# summarize feature importance\n",
        "for i,v in enumerate(importance):\n",
        "\tprint('Feature: %0d, Score: %.5f' % (i,v))\n",
        "# plot feature importance\n",
        "plt.bar([x for x in range(len(importance))], importance)\n",
        "plt.show()"
      ]
    },
    {
      "cell_type": "code",
      "execution_count": 95,
      "metadata": {},
      "outputs": [
        {
          "name": "stdout",
          "output_type": "stream",
          "text": [
            "Feature: 0, Score: 0.00000\n",
            "Feature: 1, Score: 0.03376\n",
            "Feature: 2, Score: 0.00000\n",
            "Feature: 3, Score: 0.11987\n",
            "Feature: 4, Score: 0.00192\n",
            "Feature: 5, Score: 0.00000\n",
            "Feature: 6, Score: 0.00000\n",
            "Feature: 7, Score: 0.45630\n",
            "Feature: 8, Score: 0.02869\n",
            "Feature: 9, Score: 0.00000\n",
            "Feature: 10, Score: 0.00000\n",
            "Feature: 11, Score: 0.00000\n",
            "Feature: 12, Score: 0.00000\n",
            "Feature: 13, Score: 0.00000\n",
            "Feature: 14, Score: 0.00000\n",
            "Feature: 15, Score: 0.00000\n",
            "Feature: 16, Score: 0.00000\n",
            "Feature: 17, Score: 0.00000\n",
            "Feature: 18, Score: 0.00000\n",
            "Feature: 19, Score: 0.00000\n",
            "Feature: 20, Score: 0.00000\n",
            "Feature: 21, Score: 0.03849\n",
            "Feature: 22, Score: 0.00000\n",
            "Feature: 23, Score: 0.00000\n",
            "Feature: 24, Score: 0.00000\n",
            "Feature: 25, Score: 0.00000\n",
            "Feature: 26, Score: 0.00000\n",
            "Feature: 27, Score: 0.31588\n",
            "Feature: 28, Score: 0.00000\n",
            "Feature: 29, Score: 0.00509\n"
          ]
        },
        {
          "data": {
            "image/png": "[encoded data removed]",
            "text/plain": [
              "<Figure size 432x288 with 1 Axes>"
            ]
          },
          "metadata": {
            "needs_background": "light"
          },
          "output_type": "display_data"
        }
      ],
      "source": [
        "from xgboost import XGBClassifier\n",
        "# define the model\n",
        "model = XGBClassifier()\n",
        "# fit the model\n",
        "model.fit(X_train, y_train)\n",
        "# get importance\n",
        "importance = model.feature_importances_\n",
        "# summarize feature importance\n",
        "for i,v in enumerate(importance):\n",
        " print('Feature: %0d, Score: %.5f' % (i,v))\n",
        "# plot feature importance\n",
        "plt.bar([x for x in range(len(importance))], importance)\n",
        "plt.show()"
      ]
    },
    {
      "cell_type": "code",
      "execution_count": 96,
      "metadata": {},
      "outputs": [
        {
          "name": "stdout",
          "output_type": "stream",
          "text": [
            "Feature: 0, Score: 0.00000\n",
            "Feature: 1, Score: 0.00000\n",
            "Feature: 2, Score: 0.00000\n",
            "Feature: 3, Score: 0.00000\n",
            "Feature: 4, Score: 0.00000\n",
            "Feature: 5, Score: 0.00000\n",
            "Feature: 6, Score: 0.00000\n",
            "Feature: 7, Score: 0.00000\n",
            "Feature: 8, Score: 0.00000\n",
            "Feature: 9, Score: 0.00000\n",
            "Feature: 10, Score: 0.00000\n",
            "Feature: 11, Score: 0.00000\n",
            "Feature: 12, Score: 0.00000\n",
            "Feature: 13, Score: 0.00000\n",
            "Feature: 14, Score: 0.00000\n",
            "Feature: 15, Score: 0.00000\n",
            "Feature: 16, Score: 0.00000\n",
            "Feature: 17, Score: 0.00000\n",
            "Feature: 18, Score: 0.00000\n",
            "Feature: 19, Score: 0.00000\n",
            "Feature: 20, Score: 0.00000\n",
            "Feature: 21, Score: 0.00000\n",
            "Feature: 22, Score: 0.00000\n",
            "Feature: 23, Score: 0.34054\n",
            "Feature: 24, Score: 0.00000\n",
            "Feature: 25, Score: 0.00000\n",
            "Feature: 26, Score: 0.00000\n",
            "Feature: 27, Score: 0.00000\n",
            "Feature: 28, Score: 0.00000\n",
            "Feature: 29, Score: 0.00000\n"
          ]
        },
        {
          "data": {
            "image/png": "[encoded data removed]",
            "text/plain": [
              "<Figure size 432x288 with 1 Axes>"
            ]
          },
          "metadata": {
            "needs_background": "light"
          },
          "output_type": "display_data"
        }
      ],
      "source": [
        "# permutation feature importance with knn for regression\n",
        "from sklearn.neighbors import KNeighborsClassifier\n",
        "from sklearn.inspection import permutation_importance\n",
        "\n",
        "# define the model\n",
        "model = KNeighborsClassifier()\n",
        "# fit the model\n",
        "model.fit(X_train, y_train)\n",
        "# perform permutation importance\n",
        "results = permutation_importance(model, X_train, y_train, scoring='neg_mean_squared_error')\n",
        "# get importance\n",
        "importance = results.importances_mean\n",
        "# summarize feature importance\n",
        "for i,v in enumerate(importance):\n",
        " print('Feature: %0d, Score: %.5f' % (i,v))\n",
        "# plot feature importance\n",
        "plt.bar([x for x in range(len(importance))], importance)\n",
        "plt.show()"
      ]
    }
  ],
  "metadata": {
    "colab": {
      "provenance": []
    },
    "kernelspec": {
      "display_name": "Machine_Learning",
      "language": "python",
      "name": "python3"
    },
    "language_info": {
      "codemirror_mode": {
        "name": "ipython",
        "version": 3
      },
      "file_extension": ".py",
      "mimetype": "text/x-python",
      "name": "python",
      "nbconvert_exporter": "python",
      "pygments_lexer": "ipython3",
      "version": "3.9.12"
    },
    "vscode": {
      "interpreter": {
        "hash": "25551620c597b2b9360a44f77fb0a738dcae2725e716549d421bbf424cc69647"
      }
    }
  },
  "nbformat": 4,
  "nbformat_minor": 0
}
