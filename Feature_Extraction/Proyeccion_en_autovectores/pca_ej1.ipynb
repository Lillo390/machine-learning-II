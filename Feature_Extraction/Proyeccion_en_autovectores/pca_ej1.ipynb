{
 "cells": [
  {
   "cell_type": "markdown",
   "metadata": {},
   "source": [
    "# PCA Experiments"
   ]
  },
  {
   "cell_type": "code",
   "execution_count": 4,
   "metadata": {
    "collapsed": true
   },
   "outputs": [],
   "source": [
    "#NumPy: numerical scientific computing \n",
    "import numpy as np\n",
    "\n",
    "#Scikit-learn: machine learning\n",
    "from sklearn.decomposition import PCA\n",
    "\n",
    "#Matplotlib: plotting \n",
    "import matplotlib.pyplot as plt\n",
    "from mpl_toolkits.mplot3d import Axes3D\n",
    "%matplotlib inline\n",
    "#%matplotlib notebook\n"
   ]
  },
  {
   "cell_type": "markdown",
   "metadata": {},
   "source": [
    "# Two-dimensional dataset"
   ]
  },
  {
   "attachments": {},
   "cell_type": "markdown",
   "metadata": {},
   "source": [
    "Generamos primero los datos:"
   ]
  },
  {
   "cell_type": "code",
   "execution_count": 5,
   "metadata": {
    "collapsed": true
   },
   "outputs": [],
   "source": [
    "# Genero datos 2D\n",
    "X = np.array([[1,2],[3,3],[3,5],[5,4],[5,6],[6,5],[8,7],[9,8]])"
   ]
  },
  {
   "attachments": {},
   "cell_type": "markdown",
   "metadata": {},
   "source": [
    "Obtenemos la PCA y diferentes valores calculados a partir de esta. Estos valores son los valores propios, los vectores propios, la media y el porcentaje de varianza explicada."
   ]
  },
  {
   "cell_type": "code",
   "execution_count": 7,
   "metadata": {},
   "outputs": [
    {
     "name": "stdout",
     "output_type": "stream",
     "text": [
      "[10.67644811  0.46640903] [[-0.80864711 -0.58829402]\n",
      " [-0.58829402  0.80864711]] [5. 5.] [0.95814278 0.04185722]\n"
     ]
    }
   ],
   "source": [
    "# sklearn PCA\n",
    "# XXX To fill in XXX #\n",
    "pca = PCA(n_components = 2, svd_solver='full')\n",
    "pca.fit(X)\n",
    "D = pca.explained_variance_\n",
    "U = pca.components_.T\n",
    "mu = pca.mean_\n",
    "perc = pca.explained_variance_ratio_\n",
    "n_components = pca.n_components_\n",
    "Y = pca.transform(X)\n",
    "\n",
    "print(D,U,mu,perc)\n"
   ]
  },
  {
   "attachments": {},
   "cell_type": "markdown",
   "metadata": {},
   "source": [
    "Ahora vamos a representar los datos junto a las direcciones de mayor varianza (izquierda) y finalmente representaremos la proyección de los datos sobre las dos direcciones principales (derecha):"
   ]
  },
  {
   "cell_type": "code",
   "execution_count": 9,
   "metadata": {
    "scrolled": true
   },
   "outputs": [
    {
     "data": {
      "image/png": "[encoded data removed]",
      "text/plain": [
       "<Figure size 432x288 with 2 Axes>"
      ]
     },
     "metadata": {
      "needs_background": "light"
     },
     "output_type": "display_data"
    }
   ],
   "source": [
    "# Dibujo datos 2D y PCA\n",
    "\n",
    "\n",
    "plt.figure()\n",
    "plt.subplot(121)\n",
    "# plot the data\n",
    "plt.scatter(X[:,0],X[:,1])\n",
    "# XXX To fill in XXX #\n",
    "# every eigenvector describe the direction of a principal component\n",
    "matrix_mu = [mu,mu]\n",
    "plt.quiver(*matrix_mu, U[:,0], U[:,1],color=['blue','green'], scale=3)\n",
    "# XXX To fill in XXX #\n",
    "\n",
    "plt.subplot(122)\n",
    "# plot projected data\n",
    "# XXX To fill in XXX #\n",
    "plt.scatter(Y[:,0],Y[:,1])\n",
    "plt.gca().set_aspect('equal', adjustable='box')\n",
    "plt.show()"
   ]
  }
 ],
 "metadata": {
  "kernelspec": {
   "display_name": "Machine_Learning",
   "language": "python",
   "name": "python3"
  },
  "language_info": {
   "codemirror_mode": {
    "name": "ipython",
    "version": 3
   },
   "file_extension": ".py",
   "mimetype": "text/x-python",
   "name": "python",
   "nbconvert_exporter": "python",
   "pygments_lexer": "ipython3",
   "version": "3.9.12"
  },
  "vscode": {
   "interpreter": {
    "hash": "25551620c597b2b9360a44f77fb0a738dcae2725e716549d421bbf424cc69647"
   }
  }
 },
 "nbformat": 4,
 "nbformat_minor": 1
}
